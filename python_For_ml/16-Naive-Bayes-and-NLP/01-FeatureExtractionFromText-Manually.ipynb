{
 "cells": [
  {
   "cell_type": "code",
   "execution_count": 1,
   "id": "e6f5f82a-1e91-4a95-8fcb-a3db13ed33aa",
   "metadata": {},
   "outputs": [],
   "source": [
    "import numpy as np\n",
    "import pandas as pd\n",
    "import matplotlib.pyplot as plt\n",
    "import seaborn as sns"
   ]
  },
  {
   "cell_type": "code",
   "execution_count": 2,
   "id": "db2d82fa-3494-4b5d-8b6f-12334fd7f6e2",
   "metadata": {},
   "outputs": [],
   "source": [
    "with open('One.txt') as mytext:\n",
    "    words_one = mytext.read().lower().split()\n",
    "    uni_words_one = set(words_one)"
   ]
  },
  {
   "cell_type": "code",
   "execution_count": 3,
   "id": "a0d025c7-7af5-4a94-88dd-4c10d259f6b3",
   "metadata": {},
   "outputs": [
    {
     "data": {
      "text/plain": [
       "{'a',\n",
       " 'about',\n",
       " 'animals',\n",
       " 'are',\n",
       " 'canine',\n",
       " 'dogs',\n",
       " 'furry',\n",
       " 'is',\n",
       " 'our',\n",
       " 'pets',\n",
       " 'story',\n",
       " 'this'}"
      ]
     },
     "execution_count": 3,
     "metadata": {},
     "output_type": "execute_result"
    }
   ],
   "source": [
    "# a.lower().split()\n",
    "uni_words_one"
   ]
  },
  {
   "cell_type": "code",
   "execution_count": 4,
   "id": "0f19bce1-7203-48cc-b433-0f7df87ee3c4",
   "metadata": {},
   "outputs": [],
   "source": [
    "with open('Two.txt') as mytext:\n",
    "    words_two = mytext.read().lower().split()\n",
    "    uni_words_two = set(words_two)"
   ]
  },
  {
   "cell_type": "code",
   "execution_count": 5,
   "id": "3d585cb1-ee8f-4a6f-8b3d-366502891ba7",
   "metadata": {},
   "outputs": [
    {
     "data": {
      "text/plain": [
       "{'a',\n",
       " 'about',\n",
       " 'catching',\n",
       " 'fun',\n",
       " 'is',\n",
       " 'popular',\n",
       " 'sport',\n",
       " 'story',\n",
       " 'surfing',\n",
       " 'this',\n",
       " 'water',\n",
       " 'waves'}"
      ]
     },
     "execution_count": 5,
     "metadata": {},
     "output_type": "execute_result"
    }
   ],
   "source": [
    "uni_words_two"
   ]
  },
  {
   "cell_type": "code",
   "execution_count": 6,
   "id": "d763a1e1-f75c-4160-b948-9b132837ac09",
   "metadata": {},
   "outputs": [],
   "source": [
    "all_uni_words = set()\n",
    "all_uni_words.update(uni_words_one)"
   ]
  },
  {
   "cell_type": "code",
   "execution_count": 7,
   "id": "61b418f3-1f27-4848-b2f4-608c1886fbbb",
   "metadata": {},
   "outputs": [],
   "source": [
    "all_uni_words.update(uni_words_two)"
   ]
  },
  {
   "cell_type": "code",
   "execution_count": 8,
   "id": "1e037923-e63c-4535-a2dc-ab1d45826ac1",
   "metadata": {},
   "outputs": [
    {
     "data": {
      "text/plain": [
       "{'a',\n",
       " 'about',\n",
       " 'animals',\n",
       " 'are',\n",
       " 'canine',\n",
       " 'catching',\n",
       " 'dogs',\n",
       " 'fun',\n",
       " 'furry',\n",
       " 'is',\n",
       " 'our',\n",
       " 'pets',\n",
       " 'popular',\n",
       " 'sport',\n",
       " 'story',\n",
       " 'surfing',\n",
       " 'this',\n",
       " 'water',\n",
       " 'waves'}"
      ]
     },
     "execution_count": 8,
     "metadata": {},
     "output_type": "execute_result"
    }
   ],
   "source": [
    "all_uni_words"
   ]
  },
  {
   "cell_type": "code",
   "execution_count": 9,
   "id": "9e31fd1f-ad26-4650-8c7d-1c4b2bf1fb2c",
   "metadata": {},
   "outputs": [],
   "source": [
    "full_vocab = dict()\n",
    "i = 0\n",
    "\n",
    "for word in all_uni_words:\n",
    "    full_vocab[word] = i\n",
    "    i = i+1"
   ]
  },
  {
   "cell_type": "code",
   "execution_count": 10,
   "id": "90e6489e-0c99-400c-82b9-fb7afbdc1817",
   "metadata": {},
   "outputs": [
    {
     "data": {
      "text/plain": [
       "{'fun': 0,\n",
       " 'surfing': 1,\n",
       " 'canine': 2,\n",
       " 'furry': 3,\n",
       " 'a': 4,\n",
       " 'water': 5,\n",
       " 'sport': 6,\n",
       " 'is': 7,\n",
       " 'about': 8,\n",
       " 'our': 9,\n",
       " 'waves': 10,\n",
       " 'pets': 11,\n",
       " 'are': 12,\n",
       " 'popular': 13,\n",
       " 'this': 14,\n",
       " 'story': 15,\n",
       " 'animals': 16,\n",
       " 'catching': 17,\n",
       " 'dogs': 18}"
      ]
     },
     "execution_count": 10,
     "metadata": {},
     "output_type": "execute_result"
    }
   ],
   "source": [
    "full_vocab"
   ]
  },
  {
   "cell_type": "code",
   "execution_count": 11,
   "id": "8835a851-3149-4c38-a1c7-2e78a3144cf0",
   "metadata": {},
   "outputs": [],
   "source": [
    "one_freq = [0]*len(full_vocab)\n",
    "two_freq = [0]*len(full_vocab)\n",
    "all_words = ['']*len(full_vocab)"
   ]
  },
  {
   "cell_type": "code",
   "execution_count": 12,
   "id": "f41c643f-54c4-4bce-9aeb-68ddfafc70d4",
   "metadata": {},
   "outputs": [
    {
     "data": {
      "text/plain": [
       "[0, 0, 0, 0, 0, 0, 0, 0, 0, 0, 0, 0, 0, 0, 0, 0, 0, 0, 0]"
      ]
     },
     "execution_count": 12,
     "metadata": {},
     "output_type": "execute_result"
    }
   ],
   "source": [
    "two_freq\n"
   ]
  },
  {
   "cell_type": "code",
   "execution_count": 13,
   "id": "216cd812-9191-40f9-bc8a-9692cf849d71",
   "metadata": {},
   "outputs": [],
   "source": [
    "with open('One.txt') as f:\n",
    "    one_text = f.read().lower().split()"
   ]
  },
  {
   "cell_type": "code",
   "execution_count": 14,
   "id": "969a9d4c-04ae-472d-a87c-a03daf47297e",
   "metadata": {},
   "outputs": [],
   "source": [
    "for word in one_text:\n",
    "    word_ind = full_vocab[word]\n",
    "    one_freq[word_ind] += 1"
   ]
  },
  {
   "cell_type": "code",
   "execution_count": 15,
   "id": "220a5189-b974-4102-b338-1c355a05f268",
   "metadata": {},
   "outputs": [
    {
     "data": {
      "text/plain": [
       "[0, 0, 1, 1, 1, 0, 0, 1, 1, 1, 0, 1, 1, 0, 1, 1, 1, 0, 2]"
      ]
     },
     "execution_count": 15,
     "metadata": {},
     "output_type": "execute_result"
    }
   ],
   "source": [
    "one_freq"
   ]
  },
  {
   "cell_type": "code",
   "execution_count": 16,
   "id": "9ed93990-bd4c-401b-a0ab-9439c22c8425",
   "metadata": {},
   "outputs": [],
   "source": [
    "with open('Two.txt') as f:\n",
    "    two_text = f.read().lower().split()"
   ]
  },
  {
   "cell_type": "code",
   "execution_count": 17,
   "id": "60a6d698-63ed-408b-add0-54e488dd0cd5",
   "metadata": {},
   "outputs": [],
   "source": [
    "for word in two_text:\n",
    "    word_ind = full_vocab[word]\n",
    "    two_freq[word_ind] += 1"
   ]
  },
  {
   "cell_type": "code",
   "execution_count": 18,
   "id": "8bf5aeca-b3b8-4baa-9558-fce2d8cfe6a3",
   "metadata": {},
   "outputs": [
    {
     "data": {
      "text/plain": [
       "[1, 2, 0, 0, 1, 1, 1, 3, 1, 0, 1, 0, 0, 1, 1, 1, 0, 1, 0]"
      ]
     },
     "execution_count": 18,
     "metadata": {},
     "output_type": "execute_result"
    }
   ],
   "source": [
    "two_freq"
   ]
  },
  {
   "cell_type": "code",
   "execution_count": 19,
   "id": "d6c0fd02-f7a5-45dd-8d13-55e13f9bfcd2",
   "metadata": {},
   "outputs": [],
   "source": [
    "for word in full_vocab:\n",
    "    word_ind = full_vocab[word]\n",
    "    all_words[word_ind] = word"
   ]
  },
  {
   "cell_type": "code",
   "execution_count": 20,
   "id": "954ec90c-c107-4296-92b7-0961826f52fb",
   "metadata": {},
   "outputs": [
    {
     "data": {
      "text/plain": [
       "['fun',\n",
       " 'surfing',\n",
       " 'canine',\n",
       " 'furry',\n",
       " 'a',\n",
       " 'water',\n",
       " 'sport',\n",
       " 'is',\n",
       " 'about',\n",
       " 'our',\n",
       " 'waves',\n",
       " 'pets',\n",
       " 'are',\n",
       " 'popular',\n",
       " 'this',\n",
       " 'story',\n",
       " 'animals',\n",
       " 'catching',\n",
       " 'dogs']"
      ]
     },
     "execution_count": 20,
     "metadata": {},
     "output_type": "execute_result"
    }
   ],
   "source": [
    "all_words"
   ]
  },
  {
   "cell_type": "code",
   "execution_count": 22,
   "id": "a5668f60-adb9-4d8c-ba1d-eebc0a40fa45",
   "metadata": {},
   "outputs": [],
   "source": [
    "bow = pd.DataFrame(data = [one_freq,two_freq],columns= all_words)"
   ]
  },
  {
   "cell_type": "code",
   "execution_count": 23,
   "id": "36b9e913-69c3-43a8-a11f-98c21a3ffbd0",
   "metadata": {},
   "outputs": [
    {
     "data": {
      "text/html": [
       "<div>\n",
       "<style scoped>\n",
       "    .dataframe tbody tr th:only-of-type {\n",
       "        vertical-align: middle;\n",
       "    }\n",
       "\n",
       "    .dataframe tbody tr th {\n",
       "        vertical-align: top;\n",
       "    }\n",
       "\n",
       "    .dataframe thead th {\n",
       "        text-align: right;\n",
       "    }\n",
       "</style>\n",
       "<table border=\"1\" class=\"dataframe\">\n",
       "  <thead>\n",
       "    <tr style=\"text-align: right;\">\n",
       "      <th></th>\n",
       "      <th>fun</th>\n",
       "      <th>surfing</th>\n",
       "      <th>canine</th>\n",
       "      <th>furry</th>\n",
       "      <th>a</th>\n",
       "      <th>water</th>\n",
       "      <th>sport</th>\n",
       "      <th>is</th>\n",
       "      <th>about</th>\n",
       "      <th>our</th>\n",
       "      <th>waves</th>\n",
       "      <th>pets</th>\n",
       "      <th>are</th>\n",
       "      <th>popular</th>\n",
       "      <th>this</th>\n",
       "      <th>story</th>\n",
       "      <th>animals</th>\n",
       "      <th>catching</th>\n",
       "      <th>dogs</th>\n",
       "    </tr>\n",
       "  </thead>\n",
       "  <tbody>\n",
       "    <tr>\n",
       "      <th>0</th>\n",
       "      <td>0</td>\n",
       "      <td>0</td>\n",
       "      <td>1</td>\n",
       "      <td>1</td>\n",
       "      <td>1</td>\n",
       "      <td>0</td>\n",
       "      <td>0</td>\n",
       "      <td>1</td>\n",
       "      <td>1</td>\n",
       "      <td>1</td>\n",
       "      <td>0</td>\n",
       "      <td>1</td>\n",
       "      <td>1</td>\n",
       "      <td>0</td>\n",
       "      <td>1</td>\n",
       "      <td>1</td>\n",
       "      <td>1</td>\n",
       "      <td>0</td>\n",
       "      <td>2</td>\n",
       "    </tr>\n",
       "    <tr>\n",
       "      <th>1</th>\n",
       "      <td>1</td>\n",
       "      <td>2</td>\n",
       "      <td>0</td>\n",
       "      <td>0</td>\n",
       "      <td>1</td>\n",
       "      <td>1</td>\n",
       "      <td>1</td>\n",
       "      <td>3</td>\n",
       "      <td>1</td>\n",
       "      <td>0</td>\n",
       "      <td>1</td>\n",
       "      <td>0</td>\n",
       "      <td>0</td>\n",
       "      <td>1</td>\n",
       "      <td>1</td>\n",
       "      <td>1</td>\n",
       "      <td>0</td>\n",
       "      <td>1</td>\n",
       "      <td>0</td>\n",
       "    </tr>\n",
       "  </tbody>\n",
       "</table>\n",
       "</div>"
      ],
      "text/plain": [
       "   fun  surfing  canine  furry  a  water  sport  is  about  our  waves  pets  \\\n",
       "0    0        0       1      1  1      0      0   1      1    1      0     1   \n",
       "1    1        2       0      0  1      1      1   3      1    0      1     0   \n",
       "\n",
       "   are  popular  this  story  animals  catching  dogs  \n",
       "0    1        0     1      1        1         0     2  \n",
       "1    0        1     1      1        0         1     0  "
      ]
     },
     "execution_count": 23,
     "metadata": {},
     "output_type": "execute_result"
    }
   ],
   "source": [
    "bow"
   ]
  },
  {
   "cell_type": "code",
   "execution_count": null,
   "id": "04e799af-841c-4df2-b2b0-0021973c2d57",
   "metadata": {},
   "outputs": [],
   "source": []
  }
 ],
 "metadata": {
  "kernelspec": {
   "display_name": "Python 3 (ipykernel)",
   "language": "python",
   "name": "python3"
  },
  "language_info": {
   "codemirror_mode": {
    "name": "ipython",
    "version": 3
   },
   "file_extension": ".py",
   "mimetype": "text/x-python",
   "name": "python",
   "nbconvert_exporter": "python",
   "pygments_lexer": "ipython3",
   "version": "3.10.16"
  }
 },
 "nbformat": 4,
 "nbformat_minor": 5
}
