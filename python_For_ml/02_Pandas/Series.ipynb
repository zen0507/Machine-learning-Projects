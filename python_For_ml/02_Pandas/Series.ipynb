{
 "cells": [
  {
   "cell_type": "code",
   "execution_count": 4,
   "id": "3d0e562f-244f-43aa-9be8-cbe8a4871e1d",
   "metadata": {},
   "outputs": [],
   "source": [
    "import pandas as pd"
   ]
  },
  {
   "cell_type": "code",
   "execution_count": 1,
   "id": "4a1dd677-11ce-4e64-b949-4ada69f76468",
   "metadata": {},
   "outputs": [
    {
     "name": "stdout",
     "output_type": "stream",
     "text": [
      "C:\\Users\\LENOVO\\anaconda3\\envs\\myenv\\lib\\site-packages\\pandas\\__init__.py\n",
      "2.2.3\n"
     ]
    }
   ],
   "source": [
    "import pandas\n",
    "print(pandas.__file__)  # Check if it's pointing to the correct location\n",
    "print(pandas.__version__)  # Should not give an error\n"
   ]
  },
  {
   "cell_type": "code",
   "execution_count": 2,
   "id": "987c3dad-0bad-44d4-845d-24b6d0c27088",
   "metadata": {},
   "outputs": [],
   "source": [
    "import numpy as np"
   ]
  },
  {
   "cell_type": "code",
   "execution_count": 6,
   "id": "86c33b40-9b9b-48a4-aacd-505074c18784",
   "metadata": {},
   "outputs": [],
   "source": [
    "# help (pd.Series)"
   ]
  },
  {
   "cell_type": "code",
   "execution_count": 26,
   "id": "a3acab0d-27cb-4295-a6c1-1534b5a410b6",
   "metadata": {},
   "outputs": [],
   "source": []
  },
  {
   "cell_type": "code",
   "execution_count": 30,
   "id": "19a0730f-9598-4696-915c-336e5b0c70c6",
   "metadata": {},
   "outputs": [
    {
     "data": {
      "text/plain": [
       "USA       1776\n",
       "Canada    1867\n",
       "Mexico    1821\n",
       "dtype: int64"
      ]
     },
     "execution_count": 30,
     "metadata": {},
     "output_type": "execute_result"
    }
   ],
   "source": [
    "mydata =[1776,1867,1821]\n",
    "myindex = ['USA','Canada','Mexico']\n",
    "myser = pd.Series(data = mydata, index = myindex)\n",
    "myser"
   ]
  },
  {
   "cell_type": "code",
   "execution_count": 33,
   "id": "417c33b8-ea6a-4876-a81e-7dc600e782a8",
   "metadata": {},
   "outputs": [
    {
     "data": {
      "text/plain": [
       "np.int64(1776)"
      ]
     },
     "execution_count": 33,
     "metadata": {},
     "output_type": "execute_result"
    }
   ],
   "source": [
    "myser['USA']"
   ]
  },
  {
   "cell_type": "code",
   "execution_count": 36,
   "id": "b4e01b83-4701-4d96-9829-f69548f6529e",
   "metadata": {},
   "outputs": [],
   "source": [
    "ages = {'sam':5,'frank':10,'Spike':7}"
   ]
  },
  {
   "cell_type": "code",
   "execution_count": 37,
   "id": "3ebadae6-7021-4d43-883c-0a107cb1780c",
   "metadata": {},
   "outputs": [
    {
     "data": {
      "text/plain": [
       "sam       5\n",
       "frank    10\n",
       "Spike     7\n",
       "dtype: int64"
      ]
     },
     "execution_count": 37,
     "metadata": {},
     "output_type": "execute_result"
    }
   ],
   "source": [
    "pd.Series(ages)"
   ]
  },
  {
   "cell_type": "code",
   "execution_count": 38,
   "id": "bc6d2938-ec31-4643-a765-d112fc8ec680",
   "metadata": {},
   "outputs": [],
   "source": [
    "# Imaginary Sales Data for 1st and 2nd Quarters for Global Company\n",
    "q1 = {'Japan': 80, 'China': 450, 'India': 200, 'USA': 250}\n",
    "q2 = {'Brazil': 100,'China': 500, 'India': 210,'USA': 260}"
   ]
  },
  {
   "cell_type": "code",
   "execution_count": 39,
   "id": "b9ecb75a-f8cd-4bfa-aa5c-448dc0386eca",
   "metadata": {},
   "outputs": [],
   "source": [
    "sales_q1 = pd.Series(q1)\n",
    "sales_q2 = pd.Series(q2)\n"
   ]
  },
  {
   "cell_type": "code",
   "execution_count": 40,
   "id": "009cd0bb-be48-4029-889b-9676ed450b2f",
   "metadata": {},
   "outputs": [
    {
     "data": {
      "text/plain": [
       "Japan     80\n",
       "China    450\n",
       "India    200\n",
       "USA      250\n",
       "dtype: int64"
      ]
     },
     "execution_count": 40,
     "metadata": {},
     "output_type": "execute_result"
    }
   ],
   "source": [
    "sales_q1"
   ]
  },
  {
   "cell_type": "code",
   "execution_count": 41,
   "id": "eb3bf69f-e618-4b3b-95e4-6eeda3ca9699",
   "metadata": {},
   "outputs": [
    {
     "data": {
      "text/plain": [
       "Brazil    100\n",
       "China     500\n",
       "India     210\n",
       "USA       260\n",
       "dtype: int64"
      ]
     },
     "execution_count": 41,
     "metadata": {},
     "output_type": "execute_result"
    }
   ],
   "source": [
    "sales_q2"
   ]
  },
  {
   "cell_type": "code",
   "execution_count": 44,
   "id": "79654ec4-abcf-41e3-a716-2a0e36ea0f4f",
   "metadata": {},
   "outputs": [
    {
     "data": {
      "text/plain": [
       "np.int64(80)"
      ]
     },
     "execution_count": 44,
     "metadata": {},
     "output_type": "execute_result"
    }
   ],
   "source": [
    "sales_q1['Japan']"
   ]
  },
  {
   "cell_type": "code",
   "execution_count": 45,
   "id": "4abaaf18-6303-4ff2-9b48-b154732dcc32",
   "metadata": {},
   "outputs": [
    {
     "data": {
      "text/plain": [
       "Index(['Japan', 'China', 'India', 'USA'], dtype='object')"
      ]
     },
     "execution_count": 45,
     "metadata": {},
     "output_type": "execute_result"
    }
   ],
   "source": [
    "sales_q1.keys()"
   ]
  },
  {
   "cell_type": "code",
   "execution_count": 47,
   "id": "2f0194cc-3bcd-4795-8d41-a6354f66b879",
   "metadata": {},
   "outputs": [
    {
     "data": {
      "text/plain": [
       "array([2, 4])"
      ]
     },
     "execution_count": 47,
     "metadata": {},
     "output_type": "execute_result"
    }
   ],
   "source": [
    "np.array([1,2])* 2"
   ]
  },
  {
   "cell_type": "code",
   "execution_count": 50,
   "id": "c92ac767-049c-4ebe-8d0a-cfb0675e8426",
   "metadata": {},
   "outputs": [
    {
     "data": {
      "text/plain": [
       "Japan    0.8\n",
       "China    4.5\n",
       "India    2.0\n",
       "USA      2.5\n",
       "dtype: float64"
      ]
     },
     "execution_count": 50,
     "metadata": {},
     "output_type": "execute_result"
    }
   ],
   "source": [
    "sales_q1 / 100"
   ]
  },
  {
   "cell_type": "code",
   "execution_count": 51,
   "id": "b40eadc5-e4db-4b8c-a005-4d1aa4d81e0d",
   "metadata": {},
   "outputs": [
    {
     "data": {
      "text/plain": [
       "Japan     80\n",
       "China    450\n",
       "India    200\n",
       "USA      250\n",
       "dtype: int64"
      ]
     },
     "execution_count": 51,
     "metadata": {},
     "output_type": "execute_result"
    }
   ],
   "source": [
    "sales_q1"
   ]
  },
  {
   "cell_type": "code",
   "execution_count": 52,
   "id": "7ccc79a0-f1d7-4eed-9591-65244a993b97",
   "metadata": {},
   "outputs": [
    {
     "data": {
      "text/plain": [
       "Brazil    100\n",
       "China     500\n",
       "India     210\n",
       "USA       260\n",
       "dtype: int64"
      ]
     },
     "execution_count": 52,
     "metadata": {},
     "output_type": "execute_result"
    }
   ],
   "source": [
    "sales_q2"
   ]
  },
  {
   "cell_type": "code",
   "execution_count": 53,
   "id": "6792be58-db56-4afd-8812-2909bc1558c7",
   "metadata": {},
   "outputs": [
    {
     "data": {
      "text/plain": [
       "Brazil      NaN\n",
       "China     950.0\n",
       "India     410.0\n",
       "Japan       NaN\n",
       "USA       510.0\n",
       "dtype: float64"
      ]
     },
     "execution_count": 53,
     "metadata": {},
     "output_type": "execute_result"
    }
   ],
   "source": [
    "sales_q1 + sales_q2"
   ]
  },
  {
   "cell_type": "code",
   "execution_count": 56,
   "id": "d86c6778-29cb-41ed-acf8-17514e9da0f9",
   "metadata": {},
   "outputs": [],
   "source": [
    "firt_Half=sales_q1.add(sales_q2,fill_value=0)"
   ]
  },
  {
   "cell_type": "code",
   "execution_count": 57,
   "id": "2bf7a0fa-20ef-4b64-9fc6-07fa35a67f5f",
   "metadata": {},
   "outputs": [
    {
     "data": {
      "text/plain": [
       "dtype('float64')"
      ]
     },
     "execution_count": 57,
     "metadata": {},
     "output_type": "execute_result"
    }
   ],
   "source": [
    "firt_Half.dtype"
   ]
  },
  {
   "cell_type": "code",
   "execution_count": null,
   "id": "a3c069bc-c34b-4d8f-b660-a6f27e958661",
   "metadata": {},
   "outputs": [],
   "source": []
  },
  {
   "cell_type": "code",
   "execution_count": null,
   "id": "efebd9f0-f67c-407c-8c3d-cff46b756868",
   "metadata": {},
   "outputs": [],
   "source": []
  }
 ],
 "metadata": {
  "kernelspec": {
   "display_name": "Python 3 (ipykernel)",
   "language": "python",
   "name": "python3"
  },
  "language_info": {
   "codemirror_mode": {
    "name": "ipython",
    "version": 3
   },
   "file_extension": ".py",
   "mimetype": "text/x-python",
   "name": "python",
   "nbconvert_exporter": "python",
   "pygments_lexer": "ipython3",
   "version": "3.10.16"
  }
 },
 "nbformat": 4,
 "nbformat_minor": 5
}
