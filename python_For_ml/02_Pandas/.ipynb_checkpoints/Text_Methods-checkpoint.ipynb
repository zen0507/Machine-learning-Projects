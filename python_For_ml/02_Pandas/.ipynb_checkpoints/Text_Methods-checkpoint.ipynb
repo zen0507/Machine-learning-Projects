{
 "cells": [
  {
   "cell_type": "code",
   "execution_count": 3,
   "id": "3c1ad60a-7aee-4992-ac19-f2b03231cb9d",
   "metadata": {},
   "outputs": [],
   "source": [
    "import pandas as pd\n",
    "import numpy as np"
   ]
  },
  {
   "cell_type": "code",
   "execution_count": 5,
   "id": "c826d094-3287-45f1-a628-166e7b707e49",
   "metadata": {},
   "outputs": [],
   "source": [
    "email = 'jose@gmail.com'\n"
   ]
  },
  {
   "cell_type": "code",
   "execution_count": 6,
   "id": "b03dc484-95a7-43b4-8388-eeb6bd6cf8a4",
   "metadata": {},
   "outputs": [
    {
     "data": {
      "text/plain": [
       "['jose', 'gmail.com']"
      ]
     },
     "execution_count": 6,
     "metadata": {},
     "output_type": "execute_result"
    }
   ],
   "source": [
    "email.split('@')"
   ]
  },
  {
   "cell_type": "code",
   "execution_count": 7,
   "id": "6b9a8f1f-8940-4209-8ae2-3b4c93ff9291",
   "metadata": {},
   "outputs": [],
   "source": [
    "names = pd.Series(['andew','bobo','claire','david','5'])"
   ]
  },
  {
   "cell_type": "code",
   "execution_count": 8,
   "id": "07830f60-be8a-41ba-acf1-6baaa2cf2aa0",
   "metadata": {},
   "outputs": [
    {
     "data": {
      "text/plain": [
       "0     andew\n",
       "1      bobo\n",
       "2    claire\n",
       "3     david\n",
       "4         5\n",
       "dtype: object"
      ]
     },
     "execution_count": 8,
     "metadata": {},
     "output_type": "execute_result"
    }
   ],
   "source": [
    "names"
   ]
  },
  {
   "cell_type": "code",
   "execution_count": 9,
   "id": "48b32e9a-fdd0-43bd-9b6f-44d2bbf4b0e8",
   "metadata": {},
   "outputs": [
    {
     "data": {
      "text/plain": [
       "0     ANDEW\n",
       "1      BOBO\n",
       "2    CLAIRE\n",
       "3     DAVID\n",
       "4         5\n",
       "dtype: object"
      ]
     },
     "execution_count": 9,
     "metadata": {},
     "output_type": "execute_result"
    }
   ],
   "source": [
    "names.str.upper()"
   ]
  },
  {
   "cell_type": "code",
   "execution_count": null,
   "id": "00461919-9295-4e58-82b4-fe2206bb3b9e",
   "metadata": {},
   "outputs": [],
   "source": []
  }
 ],
 "metadata": {
  "kernelspec": {
   "display_name": "Python 3 (ipykernel)",
   "language": "python",
   "name": "python3"
  },
  "language_info": {
   "codemirror_mode": {
    "name": "ipython",
    "version": 3
   },
   "file_extension": ".py",
   "mimetype": "text/x-python",
   "name": "python",
   "nbconvert_exporter": "python",
   "pygments_lexer": "ipython3",
   "version": "3.10.16"
  }
 },
 "nbformat": 4,
 "nbformat_minor": 5
}
