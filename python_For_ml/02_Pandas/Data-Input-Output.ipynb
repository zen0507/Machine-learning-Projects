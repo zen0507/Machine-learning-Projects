{
 "cells": [
  {
   "cell_type": "code",
   "execution_count": 1,
   "id": "4a7f2f20-1513-41ba-ba1a-f9d782d78e09",
   "metadata": {},
   "outputs": [],
   "source": [
    "import numpy as np\n",
    "import pandas as pd"
   ]
  },
  {
   "cell_type": "code",
   "execution_count": 2,
   "id": "605c4ed8-d7bc-4840-b74c-4886473c5fb6",
   "metadata": {},
   "outputs": [
    {
     "data": {
      "text/plain": [
       "'C:\\\\Users\\\\LENOVO\\\\python_For_ml\\\\Pandas'"
      ]
     },
     "execution_count": 2,
     "metadata": {},
     "output_type": "execute_result"
    }
   ],
   "source": [
    "pwd"
   ]
  },
  {
   "cell_type": "code",
   "execution_count": 3,
   "id": "6e43bd38-e819-4dd7-851a-5dcfe2275e57",
   "metadata": {},
   "outputs": [
    {
     "name": "stdout",
     "output_type": "stream",
     "text": [
      " Volume in drive C is Windows-SSD\n",
      " Volume Serial Number is 022C-477C\n",
      "\n",
      " Directory of C:\\Users\\LENOVO\\python_For_ml\\Pandas\n",
      "\n",
      "04/04/2025  05:25 PM    <DIR>          .\n",
      "04/02/2025  06:22 PM    <DIR>          ..\n",
      "04/04/2025  05:20 PM    <DIR>          .ipynb_checkpoints\n",
      "04/04/2025  01:50 PM            48,282 Combining_DataFrames.ipynb\n",
      "04/02/2025  09:53 PM            69,017 Conditional Filtering.ipynb\n",
      "04/02/2025  09:33 PM           129,762 DataFrames.ipynb\n",
      "04/04/2025  05:25 PM             2,564 Data-Input-Output.ipynb\n",
      "04/02/2025  07:26 PM                51 example.csv\n",
      "04/02/2025  07:26 PM             5,022 example.xlsx\n",
      "04/03/2025  01:49 PM            96,211 Group_By.ipynb\n",
      "04/02/2025  07:26 PM        25,112,317 hotel_booking_data.csv\n",
      "04/03/2025  12:48 PM            53,059 Missing_Data.ipynb\n",
      "04/02/2025  07:26 PM               177 movie_scores.csv\n",
      "04/02/2025  07:26 PM            17,727 mpg.csv\n",
      "04/02/2025  07:26 PM             5,022 my_excel_file.xlsx\n",
      "04/02/2025  07:26 PM                51 new_file.csv\n",
      "04/02/2025  07:26 PM             5,021 new_workbook.xlsx\n",
      "04/04/2025  04:22 PM                40 newfile.csv\n",
      "04/02/2025  07:26 PM            52,132 reshaping_pivot.png\n",
      "04/02/2025  07:26 PM             5,459 RetailSales_BeerWineLiquor.csv\n",
      "04/02/2025  07:26 PM             1,320 Sales_Funnel_CRM.csv\n",
      "04/02/2025  07:26 PM             1,330 sample_table.html\n",
      "04/02/2025  07:27 PM             8,768 Series.ipynb\n",
      "04/02/2025  07:26 PM               555 simple.html\n",
      "04/04/2025  02:32 PM            11,414 Text_Methods.ipynb\n",
      "04/04/2025  04:03 PM            18,725 TimeMethodsForDateAndTime.ipynb\n",
      "04/02/2025  07:26 PM            18,752 tips.csv\n",
      "04/03/2025  12:01 PM           145,831 UseFul_Methods.ipynb\n",
      "              25 File(s)     25,808,609 bytes\n",
      "               3 Dir(s)  124,562,239,488 bytes free\n"
     ]
    }
   ],
   "source": [
    "ls"
   ]
  },
  {
   "cell_type": "code",
   "execution_count": 4,
   "id": "b72a9870-ea31-4bfc-8ab1-4e8fadba01f2",
   "metadata": {},
   "outputs": [],
   "source": [
    "import os"
   ]
  },
  {
   "cell_type": "code",
   "execution_count": 5,
   "id": "932a10a5-8090-4328-b0e3-168981036afc",
   "metadata": {},
   "outputs": [
    {
     "data": {
      "text/plain": [
       "'C:\\\\Users\\\\LENOVO\\\\python_For_ml\\\\Pandas'"
      ]
     },
     "execution_count": 5,
     "metadata": {},
     "output_type": "execute_result"
    }
   ],
   "source": [
    "os.getcwd()"
   ]
  },
  {
   "cell_type": "code",
   "execution_count": 6,
   "id": "6ae64b49-d49f-41f0-b9d2-45be35489cba",
   "metadata": {},
   "outputs": [],
   "source": [
    "df = pd.read_csv('example.csv',index_col=0) #header = None"
   ]
  },
  {
   "cell_type": "code",
   "execution_count": 7,
   "id": "3c273b2b-df02-4f9f-9944-9d65554ad510",
   "metadata": {},
   "outputs": [
    {
     "data": {
      "text/html": [
       "<div>\n",
       "<style scoped>\n",
       "    .dataframe tbody tr th:only-of-type {\n",
       "        vertical-align: middle;\n",
       "    }\n",
       "\n",
       "    .dataframe tbody tr th {\n",
       "        vertical-align: top;\n",
       "    }\n",
       "\n",
       "    .dataframe thead th {\n",
       "        text-align: right;\n",
       "    }\n",
       "</style>\n",
       "<table border=\"1\" class=\"dataframe\">\n",
       "  <thead>\n",
       "    <tr style=\"text-align: right;\">\n",
       "      <th></th>\n",
       "      <th>b</th>\n",
       "      <th>c</th>\n",
       "      <th>d</th>\n",
       "    </tr>\n",
       "    <tr>\n",
       "      <th>a</th>\n",
       "      <th></th>\n",
       "      <th></th>\n",
       "      <th></th>\n",
       "    </tr>\n",
       "  </thead>\n",
       "  <tbody>\n",
       "    <tr>\n",
       "      <th>0</th>\n",
       "      <td>1</td>\n",
       "      <td>2</td>\n",
       "      <td>3</td>\n",
       "    </tr>\n",
       "    <tr>\n",
       "      <th>4</th>\n",
       "      <td>5</td>\n",
       "      <td>6</td>\n",
       "      <td>7</td>\n",
       "    </tr>\n",
       "    <tr>\n",
       "      <th>8</th>\n",
       "      <td>9</td>\n",
       "      <td>10</td>\n",
       "      <td>11</td>\n",
       "    </tr>\n",
       "    <tr>\n",
       "      <th>12</th>\n",
       "      <td>13</td>\n",
       "      <td>14</td>\n",
       "      <td>15</td>\n",
       "    </tr>\n",
       "  </tbody>\n",
       "</table>\n",
       "</div>"
      ],
      "text/plain": [
       "     b   c   d\n",
       "a             \n",
       "0    1   2   3\n",
       "4    5   6   7\n",
       "8    9  10  11\n",
       "12  13  14  15"
      ]
     },
     "execution_count": 7,
     "metadata": {},
     "output_type": "execute_result"
    }
   ],
   "source": [
    "df"
   ]
  },
  {
   "cell_type": "code",
   "execution_count": 8,
   "id": "6692b385-89e2-4c3c-983d-1cc5fb5c71b3",
   "metadata": {},
   "outputs": [],
   "source": [
    "df.to_csv('newfile.csv',index = False)"
   ]
  },
  {
   "cell_type": "code",
   "execution_count": 9,
   "id": "cde180e6-812b-4c9f-9737-c6198a25daec",
   "metadata": {},
   "outputs": [],
   "source": [
    "new = pd.read_csv('new_file.csv')"
   ]
  },
  {
   "cell_type": "code",
   "execution_count": 10,
   "id": "64d1b9a6-002c-4d2f-8882-f5d6c87d6f4c",
   "metadata": {},
   "outputs": [
    {
     "data": {
      "text/html": [
       "<div>\n",
       "<style scoped>\n",
       "    .dataframe tbody tr th:only-of-type {\n",
       "        vertical-align: middle;\n",
       "    }\n",
       "\n",
       "    .dataframe tbody tr th {\n",
       "        vertical-align: top;\n",
       "    }\n",
       "\n",
       "    .dataframe thead th {\n",
       "        text-align: right;\n",
       "    }\n",
       "</style>\n",
       "<table border=\"1\" class=\"dataframe\">\n",
       "  <thead>\n",
       "    <tr style=\"text-align: right;\">\n",
       "      <th></th>\n",
       "      <th>a</th>\n",
       "      <th>b</th>\n",
       "      <th>c</th>\n",
       "      <th>d</th>\n",
       "    </tr>\n",
       "  </thead>\n",
       "  <tbody>\n",
       "    <tr>\n",
       "      <th>0</th>\n",
       "      <td>0</td>\n",
       "      <td>1</td>\n",
       "      <td>2</td>\n",
       "      <td>3</td>\n",
       "    </tr>\n",
       "    <tr>\n",
       "      <th>1</th>\n",
       "      <td>4</td>\n",
       "      <td>5</td>\n",
       "      <td>6</td>\n",
       "      <td>7</td>\n",
       "    </tr>\n",
       "    <tr>\n",
       "      <th>2</th>\n",
       "      <td>8</td>\n",
       "      <td>9</td>\n",
       "      <td>10</td>\n",
       "      <td>11</td>\n",
       "    </tr>\n",
       "    <tr>\n",
       "      <th>3</th>\n",
       "      <td>12</td>\n",
       "      <td>13</td>\n",
       "      <td>14</td>\n",
       "      <td>15</td>\n",
       "    </tr>\n",
       "  </tbody>\n",
       "</table>\n",
       "</div>"
      ],
      "text/plain": [
       "    a   b   c   d\n",
       "0   0   1   2   3\n",
       "1   4   5   6   7\n",
       "2   8   9  10  11\n",
       "3  12  13  14  15"
      ]
     },
     "execution_count": 10,
     "metadata": {},
     "output_type": "execute_result"
    }
   ],
   "source": [
    "new"
   ]
  },
  {
   "cell_type": "markdown",
   "id": "38f096b4-a945-48ed-9992-c7f210b52b31",
   "metadata": {},
   "source": [
    "# FROM HTML TABLES"
   ]
  },
  {
   "cell_type": "code",
   "execution_count": 11,
   "id": "daa569cb-58cc-46d8-a671-0ff7a169881b",
   "metadata": {},
   "outputs": [],
   "source": [
    "url = \"https://en.wikipedia.org/wiki/World_population\""
   ]
  },
  {
   "cell_type": "code",
   "execution_count": 12,
   "id": "3fdceadb-e121-437b-8fc1-f244fa763d42",
   "metadata": {},
   "outputs": [],
   "source": [
    "tables = pd.read_html(url)"
   ]
  },
  {
   "cell_type": "code",
   "execution_count": 13,
   "id": "b94d3032-7b50-49fd-b029-860ce0e03fda",
   "metadata": {},
   "outputs": [
    {
     "data": {
      "text/plain": [
       "27"
      ]
     },
     "execution_count": 13,
     "metadata": {},
     "output_type": "execute_result"
    }
   ],
   "source": [
    "len(tables)"
   ]
  },
  {
   "cell_type": "code",
   "execution_count": 196,
   "id": "6035dcb0-1aa7-4a71-a5fc-aef3cf87f5a8",
   "metadata": {},
   "outputs": [
    {
     "data": {
      "text/html": [
       "<div>\n",
       "<style scoped>\n",
       "    .dataframe tbody tr th:only-of-type {\n",
       "        vertical-align: middle;\n",
       "    }\n",
       "\n",
       "    .dataframe tbody tr th {\n",
       "        vertical-align: top;\n",
       "    }\n",
       "\n",
       "    .dataframe thead tr th {\n",
       "        text-align: left;\n",
       "    }\n",
       "</style>\n",
       "<table border=\"1\" class=\"dataframe\">\n",
       "  <thead>\n",
       "    <tr>\n",
       "      <th></th>\n",
       "      <th>Year</th>\n",
       "      <th>Population</th>\n",
       "      <th colspan=\"2\" halign=\"left\">Yearly growth</th>\n",
       "      <th>Density (pop/km2)</th>\n",
       "    </tr>\n",
       "    <tr>\n",
       "      <th></th>\n",
       "      <th>Year</th>\n",
       "      <th>Population</th>\n",
       "      <th>%</th>\n",
       "      <th>Number</th>\n",
       "      <th>Density (pop/km2)</th>\n",
       "    </tr>\n",
       "  </thead>\n",
       "  <tbody>\n",
       "    <tr>\n",
       "      <th>0</th>\n",
       "      <td>1951</td>\n",
       "      <td>2543130380</td>\n",
       "      <td>1.75%</td>\n",
       "      <td>43808223</td>\n",
       "      <td>17</td>\n",
       "    </tr>\n",
       "    <tr>\n",
       "      <th>1</th>\n",
       "      <td>1952</td>\n",
       "      <td>2590270899</td>\n",
       "      <td>1.85%</td>\n",
       "      <td>47140519</td>\n",
       "      <td>17</td>\n",
       "    </tr>\n",
       "    <tr>\n",
       "      <th>2</th>\n",
       "      <td>1953</td>\n",
       "      <td>2640278797</td>\n",
       "      <td>1.93%</td>\n",
       "      <td>50007898</td>\n",
       "      <td>18</td>\n",
       "    </tr>\n",
       "    <tr>\n",
       "      <th>3</th>\n",
       "      <td>1954</td>\n",
       "      <td>2691979339</td>\n",
       "      <td>1.96%</td>\n",
       "      <td>51700542</td>\n",
       "      <td>18</td>\n",
       "    </tr>\n",
       "    <tr>\n",
       "      <th>4</th>\n",
       "      <td>1955</td>\n",
       "      <td>2746072141</td>\n",
       "      <td>2.01%</td>\n",
       "      <td>54092802</td>\n",
       "      <td>18</td>\n",
       "    </tr>\n",
       "    <tr>\n",
       "      <th>...</th>\n",
       "      <td>...</td>\n",
       "      <td>...</td>\n",
       "      <td>...</td>\n",
       "      <td>...</td>\n",
       "      <td>...</td>\n",
       "    </tr>\n",
       "    <tr>\n",
       "      <th>68</th>\n",
       "      <td>2019</td>\n",
       "      <td>7764951032</td>\n",
       "      <td>1.06%</td>\n",
       "      <td>81161204</td>\n",
       "      <td>52</td>\n",
       "    </tr>\n",
       "    <tr>\n",
       "      <th>69</th>\n",
       "      <td>2020</td>\n",
       "      <td>7840952880</td>\n",
       "      <td>0.98%</td>\n",
       "      <td>76001848</td>\n",
       "      <td>53</td>\n",
       "    </tr>\n",
       "    <tr>\n",
       "      <th>70</th>\n",
       "      <td>2021</td>\n",
       "      <td>7909295151</td>\n",
       "      <td>0.87%</td>\n",
       "      <td>68342271</td>\n",
       "      <td>53</td>\n",
       "    </tr>\n",
       "    <tr>\n",
       "      <th>71</th>\n",
       "      <td>2022</td>\n",
       "      <td>7975105156</td>\n",
       "      <td>0.83%</td>\n",
       "      <td>65810005</td>\n",
       "      <td>54</td>\n",
       "    </tr>\n",
       "    <tr>\n",
       "      <th>72</th>\n",
       "      <td>2023</td>\n",
       "      <td>8045311447</td>\n",
       "      <td>0.88%</td>\n",
       "      <td>70206291</td>\n",
       "      <td>54</td>\n",
       "    </tr>\n",
       "  </tbody>\n",
       "</table>\n",
       "<p>73 rows × 5 columns</p>\n",
       "</div>"
      ],
      "text/plain": [
       "    Year  Population Yearly growth           Density (pop/km2)\n",
       "    Year  Population             %    Number Density (pop/km2)\n",
       "0   1951  2543130380         1.75%  43808223                17\n",
       "1   1952  2590270899         1.85%  47140519                17\n",
       "2   1953  2640278797         1.93%  50007898                18\n",
       "3   1954  2691979339         1.96%  51700542                18\n",
       "4   1955  2746072141         2.01%  54092802                18\n",
       "..   ...         ...           ...       ...               ...\n",
       "68  2019  7764951032         1.06%  81161204                52\n",
       "69  2020  7840952880         0.98%  76001848                53\n",
       "70  2021  7909295151         0.87%  68342271                53\n",
       "71  2022  7975105156         0.83%  65810005                54\n",
       "72  2023  8045311447         0.88%  70206291                54\n",
       "\n",
       "[73 rows x 5 columns]"
      ]
     },
     "execution_count": 196,
     "metadata": {},
     "output_type": "execute_result"
    }
   ],
   "source": [
    "world_topten"
   ]
  },
  {
   "cell_type": "code",
   "execution_count": 153,
   "id": "394c60bc-fec6-4c56-904b-200125a6ecef",
   "metadata": {},
   "outputs": [],
   "source": [
    "world_topten=tables[8]"
   ]
  },
  {
   "cell_type": "code",
   "execution_count": 203,
   "id": "6ce84ee0-7a89-4e91-bdc4-475f64e2edb7",
   "metadata": {},
   "outputs": [],
   "source": [
    "world_topten.columns = ['Year','Population','Yearly growth','Yearly number','Density (pop/km2)']"
   ]
  },
  {
   "cell_type": "code",
   "execution_count": 204,
   "id": "b96343d3-7d75-4271-8981-e2b17b0a2525",
   "metadata": {},
   "outputs": [
    {
     "data": {
      "text/html": [
       "<div>\n",
       "<style scoped>\n",
       "    .dataframe tbody tr th:only-of-type {\n",
       "        vertical-align: middle;\n",
       "    }\n",
       "\n",
       "    .dataframe tbody tr th {\n",
       "        vertical-align: top;\n",
       "    }\n",
       "\n",
       "    .dataframe thead th {\n",
       "        text-align: right;\n",
       "    }\n",
       "</style>\n",
       "<table border=\"1\" class=\"dataframe\">\n",
       "  <thead>\n",
       "    <tr style=\"text-align: right;\">\n",
       "      <th></th>\n",
       "      <th>Year</th>\n",
       "      <th>Population</th>\n",
       "      <th>Yearly growth</th>\n",
       "      <th>Yearly number</th>\n",
       "      <th>Density (pop/km2)</th>\n",
       "    </tr>\n",
       "  </thead>\n",
       "  <tbody>\n",
       "    <tr>\n",
       "      <th>0</th>\n",
       "      <td>1951</td>\n",
       "      <td>2543130380</td>\n",
       "      <td>1.75%</td>\n",
       "      <td>43808223</td>\n",
       "      <td>17</td>\n",
       "    </tr>\n",
       "    <tr>\n",
       "      <th>1</th>\n",
       "      <td>1952</td>\n",
       "      <td>2590270899</td>\n",
       "      <td>1.85%</td>\n",
       "      <td>47140519</td>\n",
       "      <td>17</td>\n",
       "    </tr>\n",
       "    <tr>\n",
       "      <th>2</th>\n",
       "      <td>1953</td>\n",
       "      <td>2640278797</td>\n",
       "      <td>1.93%</td>\n",
       "      <td>50007898</td>\n",
       "      <td>18</td>\n",
       "    </tr>\n",
       "    <tr>\n",
       "      <th>3</th>\n",
       "      <td>1954</td>\n",
       "      <td>2691979339</td>\n",
       "      <td>1.96%</td>\n",
       "      <td>51700542</td>\n",
       "      <td>18</td>\n",
       "    </tr>\n",
       "    <tr>\n",
       "      <th>4</th>\n",
       "      <td>1955</td>\n",
       "      <td>2746072141</td>\n",
       "      <td>2.01%</td>\n",
       "      <td>54092802</td>\n",
       "      <td>18</td>\n",
       "    </tr>\n",
       "    <tr>\n",
       "      <th>...</th>\n",
       "      <td>...</td>\n",
       "      <td>...</td>\n",
       "      <td>...</td>\n",
       "      <td>...</td>\n",
       "      <td>...</td>\n",
       "    </tr>\n",
       "    <tr>\n",
       "      <th>68</th>\n",
       "      <td>2019</td>\n",
       "      <td>7764951032</td>\n",
       "      <td>1.06%</td>\n",
       "      <td>81161204</td>\n",
       "      <td>52</td>\n",
       "    </tr>\n",
       "    <tr>\n",
       "      <th>69</th>\n",
       "      <td>2020</td>\n",
       "      <td>7840952880</td>\n",
       "      <td>0.98%</td>\n",
       "      <td>76001848</td>\n",
       "      <td>53</td>\n",
       "    </tr>\n",
       "    <tr>\n",
       "      <th>70</th>\n",
       "      <td>2021</td>\n",
       "      <td>7909295151</td>\n",
       "      <td>0.87%</td>\n",
       "      <td>68342271</td>\n",
       "      <td>53</td>\n",
       "    </tr>\n",
       "    <tr>\n",
       "      <th>71</th>\n",
       "      <td>2022</td>\n",
       "      <td>7975105156</td>\n",
       "      <td>0.83%</td>\n",
       "      <td>65810005</td>\n",
       "      <td>54</td>\n",
       "    </tr>\n",
       "    <tr>\n",
       "      <th>72</th>\n",
       "      <td>2023</td>\n",
       "      <td>8045311447</td>\n",
       "      <td>0.88%</td>\n",
       "      <td>70206291</td>\n",
       "      <td>54</td>\n",
       "    </tr>\n",
       "  </tbody>\n",
       "</table>\n",
       "<p>73 rows × 5 columns</p>\n",
       "</div>"
      ],
      "text/plain": [
       "    Year  Population Yearly growth  Yearly number  Density (pop/km2)\n",
       "0   1951  2543130380         1.75%       43808223                 17\n",
       "1   1952  2590270899         1.85%       47140519                 17\n",
       "2   1953  2640278797         1.93%       50007898                 18\n",
       "3   1954  2691979339         1.96%       51700542                 18\n",
       "4   1955  2746072141         2.01%       54092802                 18\n",
       "..   ...         ...           ...            ...                ...\n",
       "68  2019  7764951032         1.06%       81161204                 52\n",
       "69  2020  7840952880         0.98%       76001848                 53\n",
       "70  2021  7909295151         0.87%       68342271                 53\n",
       "71  2022  7975105156         0.83%       65810005                 54\n",
       "72  2023  8045311447         0.88%       70206291                 54\n",
       "\n",
       "[73 rows x 5 columns]"
      ]
     },
     "execution_count": 204,
     "metadata": {},
     "output_type": "execute_result"
    }
   ],
   "source": [
    "world_topten"
   ]
  },
  {
   "cell_type": "code",
   "execution_count": 205,
   "id": "df696ac3-12f2-421d-8e5a-61afae848838",
   "metadata": {},
   "outputs": [],
   "source": [
    "world_topten.to_html('sample_table.html')"
   ]
  },
  {
   "cell_type": "code",
   "execution_count": 206,
   "id": "59209543-7325-4183-a248-2b86d1e6bd87",
   "metadata": {},
   "outputs": [],
   "source": [
    "### python use open pyxl and xlrd for xl file operations"
   ]
  },
  {
   "cell_type": "code",
   "execution_count": 210,
   "id": "f51ff806-5fec-41ae-a61e-9852123e913e",
   "metadata": {},
   "outputs": [],
   "source": [
    "df = pd.read_excel(\"my_excel_file.xlsx\",sheet_name='First_Sheet')"
   ]
  },
  {
   "cell_type": "code",
   "execution_count": 211,
   "id": "c3068d69-58f8-4cf5-9226-5d6d24278093",
   "metadata": {},
   "outputs": [
    {
     "data": {
      "text/html": [
       "<div>\n",
       "<style scoped>\n",
       "    .dataframe tbody tr th:only-of-type {\n",
       "        vertical-align: middle;\n",
       "    }\n",
       "\n",
       "    .dataframe tbody tr th {\n",
       "        vertical-align: top;\n",
       "    }\n",
       "\n",
       "    .dataframe thead th {\n",
       "        text-align: right;\n",
       "    }\n",
       "</style>\n",
       "<table border=\"1\" class=\"dataframe\">\n",
       "  <thead>\n",
       "    <tr style=\"text-align: right;\">\n",
       "      <th></th>\n",
       "      <th>a</th>\n",
       "      <th>b</th>\n",
       "      <th>c</th>\n",
       "      <th>d</th>\n",
       "    </tr>\n",
       "  </thead>\n",
       "  <tbody>\n",
       "    <tr>\n",
       "      <th>0</th>\n",
       "      <td>0</td>\n",
       "      <td>1</td>\n",
       "      <td>2</td>\n",
       "      <td>3</td>\n",
       "    </tr>\n",
       "    <tr>\n",
       "      <th>1</th>\n",
       "      <td>4</td>\n",
       "      <td>5</td>\n",
       "      <td>6</td>\n",
       "      <td>7</td>\n",
       "    </tr>\n",
       "    <tr>\n",
       "      <th>2</th>\n",
       "      <td>8</td>\n",
       "      <td>9</td>\n",
       "      <td>10</td>\n",
       "      <td>11</td>\n",
       "    </tr>\n",
       "    <tr>\n",
       "      <th>3</th>\n",
       "      <td>12</td>\n",
       "      <td>13</td>\n",
       "      <td>14</td>\n",
       "      <td>15</td>\n",
       "    </tr>\n",
       "  </tbody>\n",
       "</table>\n",
       "</div>"
      ],
      "text/plain": [
       "    a   b   c   d\n",
       "0   0   1   2   3\n",
       "1   4   5   6   7\n",
       "2   8   9  10  11\n",
       "3  12  13  14  15"
      ]
     },
     "execution_count": 211,
     "metadata": {},
     "output_type": "execute_result"
    }
   ],
   "source": [
    "df"
   ]
  },
  {
   "cell_type": "code",
   "execution_count": 212,
   "id": "b8537f59-242e-44a7-a2cf-41935b96aece",
   "metadata": {},
   "outputs": [],
   "source": [
    "wb = pd.ExcelFile(\"my_excel_file.xlsx\")"
   ]
  },
  {
   "cell_type": "code",
   "execution_count": 213,
   "id": "5ff07e0c-1d23-4c4d-a841-76518f85ad6f",
   "metadata": {},
   "outputs": [
    {
     "data": {
      "text/plain": [
       "['First_Sheet']"
      ]
     },
     "execution_count": 213,
     "metadata": {},
     "output_type": "execute_result"
    }
   ],
   "source": [
    "wb.sheet_names"
   ]
  },
  {
   "cell_type": "code",
   "execution_count": 215,
   "id": "36b4d741-001e-43dc-ba1b-41106158dabd",
   "metadata": {},
   "outputs": [],
   "source": [
    "excel_sheet_dict = pd.read_excel('my_excel_file.xlsx',sheet_name=None)"
   ]
  },
  {
   "cell_type": "code",
   "execution_count": 216,
   "id": "01bad63e-da4a-424b-84a6-fc0ec78301b7",
   "metadata": {},
   "outputs": [
    {
     "data": {
      "text/plain": [
       "dict"
      ]
     },
     "execution_count": 216,
     "metadata": {},
     "output_type": "execute_result"
    }
   ],
   "source": [
    "type(excel_sheet_dict)"
   ]
  },
  {
   "cell_type": "code",
   "execution_count": 217,
   "id": "ffab724a-085a-46ba-bcb4-e88352f59d77",
   "metadata": {},
   "outputs": [
    {
     "data": {
      "text/plain": [
       "dict_keys(['First_Sheet'])"
      ]
     },
     "execution_count": 217,
     "metadata": {},
     "output_type": "execute_result"
    }
   ],
   "source": [
    "excel_sheet_dict.keys()"
   ]
  },
  {
   "cell_type": "code",
   "execution_count": 221,
   "id": "8cec26fb-a47f-4db3-8b0c-5ad2dceef918",
   "metadata": {},
   "outputs": [],
   "source": [
    "our_df = excel_sheet_dict['First_Sheet']"
   ]
  },
  {
   "cell_type": "code",
   "execution_count": 223,
   "id": "c23785ba-d72c-44ad-8782-23b845224df1",
   "metadata": {},
   "outputs": [
    {
     "data": {
      "text/plain": [
       "{'First_Sheet':     a   b   c   d\n",
       " 0   0   1   2   3\n",
       " 1   4   5   6   7\n",
       " 2   8   9  10  11\n",
       " 3  12  13  14  15}"
      ]
     },
     "execution_count": 223,
     "metadata": {},
     "output_type": "execute_result"
    }
   ],
   "source": [
    "excel_sheet_dict"
   ]
  },
  {
   "cell_type": "code",
   "execution_count": 222,
   "id": "fec91fba-7d2b-43cd-8e3e-e77ff8a9bb26",
   "metadata": {},
   "outputs": [],
   "source": [
    "our_df.to_excel('example.xlsx',sheet_name='First_Sheet',index=False)"
   ]
  },
  {
   "cell_type": "markdown",
   "id": "a5ee2b5b-d91a-41d3-bb67-62c59004803c",
   "metadata": {},
   "source": [
    "## FROM SQL"
   ]
  },
  {
   "cell_type": "code",
   "execution_count": 224,
   "id": "fb05d08b-c300-4443-84d0-635c2609f7ea",
   "metadata": {},
   "outputs": [],
   "source": [
    "from sqlalchemy import create_engine"
   ]
  },
  {
   "cell_type": "code",
   "execution_count": 225,
   "id": "351356b4-580a-4bda-b191-6d9c11aafca0",
   "metadata": {},
   "outputs": [],
   "source": [
    "temp_db = create_engine('sqlite:///:memory:')"
   ]
  },
  {
   "cell_type": "code",
   "execution_count": 227,
   "id": "d5cf0b93-f195-43d9-a2c0-4b424e4c7427",
   "metadata": {},
   "outputs": [],
   "source": [
    "df = pd.DataFrame(data = np.random.randint(low=0,high=100,size=(4,4)),columns=['a','b','c','d'])"
   ]
  },
  {
   "cell_type": "code",
   "execution_count": 228,
   "id": "29799afa-4dad-432e-9ba3-7e10de2ec645",
   "metadata": {},
   "outputs": [
    {
     "data": {
      "text/html": [
       "<div>\n",
       "<style scoped>\n",
       "    .dataframe tbody tr th:only-of-type {\n",
       "        vertical-align: middle;\n",
       "    }\n",
       "\n",
       "    .dataframe tbody tr th {\n",
       "        vertical-align: top;\n",
       "    }\n",
       "\n",
       "    .dataframe thead th {\n",
       "        text-align: right;\n",
       "    }\n",
       "</style>\n",
       "<table border=\"1\" class=\"dataframe\">\n",
       "  <thead>\n",
       "    <tr style=\"text-align: right;\">\n",
       "      <th></th>\n",
       "      <th>a</th>\n",
       "      <th>b</th>\n",
       "      <th>c</th>\n",
       "      <th>d</th>\n",
       "    </tr>\n",
       "  </thead>\n",
       "  <tbody>\n",
       "    <tr>\n",
       "      <th>0</th>\n",
       "      <td>62</td>\n",
       "      <td>28</td>\n",
       "      <td>22</td>\n",
       "      <td>64</td>\n",
       "    </tr>\n",
       "    <tr>\n",
       "      <th>1</th>\n",
       "      <td>23</td>\n",
       "      <td>13</td>\n",
       "      <td>27</td>\n",
       "      <td>67</td>\n",
       "    </tr>\n",
       "    <tr>\n",
       "      <th>2</th>\n",
       "      <td>66</td>\n",
       "      <td>9</td>\n",
       "      <td>16</td>\n",
       "      <td>51</td>\n",
       "    </tr>\n",
       "    <tr>\n",
       "      <th>3</th>\n",
       "      <td>26</td>\n",
       "      <td>66</td>\n",
       "      <td>63</td>\n",
       "      <td>74</td>\n",
       "    </tr>\n",
       "  </tbody>\n",
       "</table>\n",
       "</div>"
      ],
      "text/plain": [
       "    a   b   c   d\n",
       "0  62  28  22  64\n",
       "1  23  13  27  67\n",
       "2  66   9  16  51\n",
       "3  26  66  63  74"
      ]
     },
     "execution_count": 228,
     "metadata": {},
     "output_type": "execute_result"
    }
   ],
   "source": [
    "df"
   ]
  },
  {
   "cell_type": "code",
   "execution_count": 235,
   "id": "0a00d3cf-13d6-4727-8baa-aff05dffa52c",
   "metadata": {},
   "outputs": [
    {
     "data": {
      "text/plain": [
       "4"
      ]
     },
     "execution_count": 235,
     "metadata": {},
     "output_type": "execute_result"
    }
   ],
   "source": [
    "df.to_sql(name='new_table',con=temp_db,if_exists='replace',index=False)"
   ]
  },
  {
   "cell_type": "code",
   "execution_count": 236,
   "id": "34591b6f-025a-4e05-b63c-add199d29cd8",
   "metadata": {},
   "outputs": [],
   "source": [
    "new_df = pd.read_sql(sql = 'new_table',con=temp_db)"
   ]
  },
  {
   "cell_type": "code",
   "execution_count": 237,
   "id": "d5b95561-8c06-426b-acb3-d0d938458d5a",
   "metadata": {},
   "outputs": [
    {
     "data": {
      "text/html": [
       "<div>\n",
       "<style scoped>\n",
       "    .dataframe tbody tr th:only-of-type {\n",
       "        vertical-align: middle;\n",
       "    }\n",
       "\n",
       "    .dataframe tbody tr th {\n",
       "        vertical-align: top;\n",
       "    }\n",
       "\n",
       "    .dataframe thead th {\n",
       "        text-align: right;\n",
       "    }\n",
       "</style>\n",
       "<table border=\"1\" class=\"dataframe\">\n",
       "  <thead>\n",
       "    <tr style=\"text-align: right;\">\n",
       "      <th></th>\n",
       "      <th>a</th>\n",
       "      <th>b</th>\n",
       "      <th>c</th>\n",
       "      <th>d</th>\n",
       "    </tr>\n",
       "  </thead>\n",
       "  <tbody>\n",
       "    <tr>\n",
       "      <th>0</th>\n",
       "      <td>62</td>\n",
       "      <td>28</td>\n",
       "      <td>22</td>\n",
       "      <td>64</td>\n",
       "    </tr>\n",
       "    <tr>\n",
       "      <th>1</th>\n",
       "      <td>23</td>\n",
       "      <td>13</td>\n",
       "      <td>27</td>\n",
       "      <td>67</td>\n",
       "    </tr>\n",
       "    <tr>\n",
       "      <th>2</th>\n",
       "      <td>66</td>\n",
       "      <td>9</td>\n",
       "      <td>16</td>\n",
       "      <td>51</td>\n",
       "    </tr>\n",
       "    <tr>\n",
       "      <th>3</th>\n",
       "      <td>26</td>\n",
       "      <td>66</td>\n",
       "      <td>63</td>\n",
       "      <td>74</td>\n",
       "    </tr>\n",
       "  </tbody>\n",
       "</table>\n",
       "</div>"
      ],
      "text/plain": [
       "    a   b   c   d\n",
       "0  62  28  22  64\n",
       "1  23  13  27  67\n",
       "2  66   9  16  51\n",
       "3  26  66  63  74"
      ]
     },
     "execution_count": 237,
     "metadata": {},
     "output_type": "execute_result"
    }
   ],
   "source": [
    "new_df"
   ]
  },
  {
   "cell_type": "code",
   "execution_count": 238,
   "id": "1445dc77-de90-429d-9f30-80b78eaee79f",
   "metadata": {},
   "outputs": [
    {
     "data": {
      "text/html": [
       "<div>\n",
       "<style scoped>\n",
       "    .dataframe tbody tr th:only-of-type {\n",
       "        vertical-align: middle;\n",
       "    }\n",
       "\n",
       "    .dataframe tbody tr th {\n",
       "        vertical-align: top;\n",
       "    }\n",
       "\n",
       "    .dataframe thead th {\n",
       "        text-align: right;\n",
       "    }\n",
       "</style>\n",
       "<table border=\"1\" class=\"dataframe\">\n",
       "  <thead>\n",
       "    <tr style=\"text-align: right;\">\n",
       "      <th></th>\n",
       "      <th>a</th>\n",
       "      <th>c</th>\n",
       "    </tr>\n",
       "  </thead>\n",
       "  <tbody>\n",
       "    <tr>\n",
       "      <th>0</th>\n",
       "      <td>62</td>\n",
       "      <td>22</td>\n",
       "    </tr>\n",
       "    <tr>\n",
       "      <th>1</th>\n",
       "      <td>23</td>\n",
       "      <td>27</td>\n",
       "    </tr>\n",
       "    <tr>\n",
       "      <th>2</th>\n",
       "      <td>66</td>\n",
       "      <td>16</td>\n",
       "    </tr>\n",
       "    <tr>\n",
       "      <th>3</th>\n",
       "      <td>26</td>\n",
       "      <td>63</td>\n",
       "    </tr>\n",
       "  </tbody>\n",
       "</table>\n",
       "</div>"
      ],
      "text/plain": [
       "    a   c\n",
       "0  62  22\n",
       "1  23  27\n",
       "2  66  16\n",
       "3  26  63"
      ]
     },
     "execution_count": 238,
     "metadata": {},
     "output_type": "execute_result"
    }
   ],
   "source": [
    "pd.read_sql_query(sql = \"SELECT a,c FROM new_table\",con=temp_db)"
   ]
  },
  {
   "cell_type": "code",
   "execution_count": null,
   "id": "1ba5489f-0bfa-45c9-858b-b378ae84e7d6",
   "metadata": {},
   "outputs": [],
   "source": [
    "\\"
   ]
  }
 ],
 "metadata": {
  "kernelspec": {
   "display_name": "Python 3 (ipykernel)",
   "language": "python",
   "name": "python3"
  },
  "language_info": {
   "codemirror_mode": {
    "name": "ipython",
    "version": 3
   },
   "file_extension": ".py",
   "mimetype": "text/x-python",
   "name": "python",
   "nbconvert_exporter": "python",
   "pygments_lexer": "ipython3",
   "version": "3.10.16"
  }
 },
 "nbformat": 4,
 "nbformat_minor": 5
}
